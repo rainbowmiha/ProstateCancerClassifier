{
  "nbformat": 4,
  "nbformat_minor": 0,
  "metadata": {
    "colab": {
      "name": "ProstrateCancerClassifier.ipynb",
      "provenance": [],
      "collapsed_sections": [],
      "toc_visible": true,
      "authorship_tag": "ABX9TyPfVTiK4+VX4vx7VoKSIzz7"
    },
    "kernelspec": {
      "name": "python3",
      "display_name": "Python 3"
    }
  },
  "cells": [
    {
      "cell_type": "markdown",
      "metadata": {
        "id": "620SZD6Czc9v"
      },
      "source": [
        "# **Prostate Cancer Classification: Logistic Regression vs Decision Tree**"
      ]
    },
    {
      "cell_type": "markdown",
      "metadata": {
        "id": "mpm6Kgc-U7Su"
      },
      "source": [
        "The purpose of this project is to train a classifier which would succesfully classify prostate cancer tumours as benign or malignant, based on a set of numerical features. In our case we decided to train two classifiers - Logistic Regression and Decision tree and then compare their performance."
      ]
    },
    {
      "cell_type": "markdown",
      "metadata": {
        "id": "pk00xam9XNF0"
      },
      "source": [
        "## **Data**"
      ]
    },
    {
      "cell_type": "markdown",
      "metadata": {
        "id": "kd0M3_mPXPZp"
      },
      "source": [
        "### **Data Description**"
      ]
    },
    {
      "cell_type": "markdown",
      "metadata": {
        "id": "F3qx73zmXTn1"
      },
      "source": [
        "The data consists of 100 samples with diagnosis of benign and malignant tumour. There are 10 features in the original dataset:\\\n",
        "1.id\\\n",
        "2.diagnosis_result\\\n",
        "3.Radius\\\n",
        "4.Texture\\\n",
        "5.Perimeter\\\n",
        "6.Area\\\n",
        "7.Smoothness\\\n",
        "8.Compactness\\\n",
        "9.Symmetry\\\n",
        "10.Fractal dimension"
      ]
    },
    {
      "cell_type": "markdown",
      "metadata": {
        "id": "B4Afw8F7vtXu"
      },
      "source": [
        "Now, the ***id*** just assigns a unique number to each sample and thus does not add any useful information. Thus, it will be dropped from the feature matrix. In addition, ***diagnosis_result*** is the target variable, taking two values - \"B\" (benign) and \"M\" (malignant). Thus, this variable will be dropped from the feature matrix and stored separately as the outcome to be predicted.\n",
        "Thus we are left with 8 features in total."
      ]
    },
    {
      "cell_type": "markdown",
      "metadata": {
        "id": "H_CcJzL4wiQp"
      },
      "source": [
        "### **Data Loading**"
      ]
    },
    {
      "cell_type": "code",
      "metadata": {
        "id": "FuMe8mx-L_lL",
        "outputId": "54c47e83-4750-4de3-ea78-a22a517e4b70",
        "colab": {
          "base_uri": "https://localhost:8080/"
        }
      },
      "source": [
        "from google.colab import drive\n",
        "drive.mount(\"/content/gdrive\")"
      ],
      "execution_count": 1,
      "outputs": [
        {
          "output_type": "stream",
          "text": [
            "Drive already mounted at /content/gdrive; to attempt to forcibly remount, call drive.mount(\"/content/gdrive\", force_remount=True).\n"
          ],
          "name": "stdout"
        }
      ]
    },
    {
      "cell_type": "code",
      "metadata": {
        "id": "dOMrkKv_dYI7",
        "outputId": "ab2f4fe7-4d9b-4cb1-fc2f-5b5d0e282126",
        "colab": {
          "base_uri": "https://localhost:8080/"
        }
      },
      "source": [
        "pip install scikit-optimize"
      ],
      "execution_count": 2,
      "outputs": [
        {
          "output_type": "stream",
          "text": [
            "Requirement already satisfied: scikit-optimize in /usr/local/lib/python3.6/dist-packages (0.8.1)\n",
            "Requirement already satisfied: scipy>=0.19.1 in /usr/local/lib/python3.6/dist-packages (from scikit-optimize) (1.4.1)\n",
            "Requirement already satisfied: scikit-learn>=0.20.0 in /usr/local/lib/python3.6/dist-packages (from scikit-optimize) (0.22.2.post1)\n",
            "Requirement already satisfied: pyaml>=16.9 in /usr/local/lib/python3.6/dist-packages (from scikit-optimize) (20.4.0)\n",
            "Requirement already satisfied: numpy>=1.13.3 in /usr/local/lib/python3.6/dist-packages (from scikit-optimize) (1.18.5)\n",
            "Requirement already satisfied: joblib>=0.11 in /usr/local/lib/python3.6/dist-packages (from scikit-optimize) (0.17.0)\n",
            "Requirement already satisfied: PyYAML in /usr/local/lib/python3.6/dist-packages (from pyaml>=16.9->scikit-optimize) (3.13)\n"
          ],
          "name": "stdout"
        }
      ]
    },
    {
      "cell_type": "code",
      "metadata": {
        "id": "DETu9PRcIPBq"
      },
      "source": [
        "# Import Libraries\n",
        "\n",
        "import numpy as np\n",
        "import pandas as pd\n",
        "import matplotlib.pyplot as plt\n",
        "import seaborn as sns\n",
        "from sklearn.linear_model import LogisticRegression\n",
        "from sklearn.tree import DecisionTreeClassifier\n",
        "from sklearn import svm\n",
        "from sklearn.model_selection import cross_validate\n",
        "from tqdm import tqdm\n",
        "from sklearn.model_selection import cross_val_score\n",
        "import skopt \n",
        "from skopt import BayesSearchCV\n",
        "import warnings\n",
        "warnings.filterwarnings('ignore', message='The objective has been evaluated at this point before.')\n",
        "from sklearn.metrics import make_scorer\n",
        "from sklearn.metrics import f1_score\n",
        "from sklearn.metrics import recall_score\n",
        "from sklearn.metrics import precision_score\n",
        "from sklearn.metrics import accuracy_score, classification_report\n",
        "from sklearn.preprocessing import MinMaxScaler\n",
        "from sklearn.model_selection import train_test_split\n"
      ],
      "execution_count": 3,
      "outputs": []
    },
    {
      "cell_type": "code",
      "metadata": {
        "id": "V8FYwWEiOxlO"
      },
      "source": [
        "# Load data\n",
        "df = pd.read_csv(\"/content/gdrive/My Drive/MLProjects/ProstateCancerClassifier/Prostate_Cancer.csv\")\n"
      ],
      "execution_count": 4,
      "outputs": []
    },
    {
      "cell_type": "markdown",
      "metadata": {
        "id": "gm6v6KBElraV"
      },
      "source": [
        "### **Exploratory Data Analysis**"
      ]
    },
    {
      "cell_type": "markdown",
      "metadata": {
        "id": "MABzZiBFLPVP"
      },
      "source": [
        "The first thing worth looking at is whether the dataset is balanced."
      ]
    },
    {
      "cell_type": "code",
      "metadata": {
        "id": "IVnyzQj6fZ6i",
        "outputId": "ff4bfe07-7210-4547-94c4-431d68c1178c",
        "colab": {
          "base_uri": "https://localhost:8080/",
          "height": 301
        }
      },
      "source": [
        "# Proportion of Benign and Malignant samples\n",
        "# check numbers of samples in both conditions (B and M), to see if they are balanced\n",
        "sns.set_theme(style=\"darkgrid\")\n",
        "ax = sns.countplot(x = \"diagnosis_result\", data = df, order = [\"B\", \"M\"]).set_title(\"Counts per Class\")\n",
        "\n",
        "\n"
      ],
      "execution_count": 5,
      "outputs": [
        {
          "output_type": "display_data",
          "data": {
            "image/png": "[encoded data removed]",
            "text/plain": [
              "<Figure size 432x288 with 1 Axes>"
            ]
          },
          "metadata": {
            "tags": []
          }
        }
      ]
    },
    {
      "cell_type": "markdown",
      "metadata": {
        "id": "fbKtBkonzJJd"
      },
      "source": [
        "As one can see, the ratio of benign to malignant samples is roughly 2:3. This imbalance should be taken into account when splitting the dataset into train and test, as well as in evaluation. "
      ]
    },
    {
      "cell_type": "markdown",
      "metadata": {
        "id": "ibrrDcshieOX"
      },
      "source": [
        "It is interesting to check whether there is a difference in the distribution of feature values in the two groups"
      ]
    },
    {
      "cell_type": "code",
      "metadata": {
        "id": "2bEctQJwjhCy",
        "outputId": "266217a8-7c7e-49e5-a99f-b2570c4f1f54",
        "colab": {
          "base_uri": "https://localhost:8080/",
          "height": 508
        }
      },
      "source": [
        "df_plot = df.melt(id_vars=['id', 'diagnosis_result'])\n",
        "cols = df.columns\n",
        "grid = sns.axisgrid.FacetGrid(df_plot[df_plot.variable.isin(cols)], col='variable', sharey=False, col_wrap = 4)\n",
        "grid.map(sns.boxplot, 'diagnosis_result','value')"
      ],
      "execution_count": 6,
      "outputs": [
        {
          "output_type": "stream",
          "text": [
            "/usr/local/lib/python3.6/dist-packages/seaborn/axisgrid.py:645: UserWarning: Using the boxplot function without specifying `order` is likely to produce an incorrect plot.\n",
            "  warnings.warn(warning)\n"
          ],
          "name": "stderr"
        },
        {
          "output_type": "execute_result",
          "data": {
            "text/plain": [
              "<seaborn.axisgrid.FacetGrid at 0x7fc4ca5a95f8>"
            ]
          },
          "metadata": {
            "tags": []
          },
          "execution_count": 6
        },
        {
          "output_type": "display_data",
          "data": {
            "image/png": "[encoded data removed]",
            "text/plain": [
              "<Figure size 864x432 with 8 Axes>"
            ]
          },
          "metadata": {
            "tags": []
          }
        }
      ]
    },
    {
      "cell_type": "markdown",
      "metadata": {
        "id": "9AQrRMkDj1oZ"
      },
      "source": [
        "At first sight, there appears to be a noticeable difference of the values of ***perimeter, area,*** and ***compactness*** between the 'benign' and 'malignant' group. The rest of the variables do not seem to exhibit difference in the distribution of values, when split by diagnosis."
      ]
    },
    {
      "cell_type": "code",
      "metadata": {
        "id": "XU_X0-lZg94N",
        "outputId": "87f7e278-219d-407f-d285-b5860e2e3d9f",
        "colab": {
          "base_uri": "https://localhost:8080/",
          "height": 328
        }
      },
      "source": [
        "# summary of variables\n",
        "df.describe().T"
      ],
      "execution_count": 7,
      "outputs": [
        {
          "output_type": "execute_result",
          "data": {
            "text/html": [
              "<div>\n",
              "<style scoped>\n",
              "    .dataframe tbody tr th:only-of-type {\n",
              "        vertical-align: middle;\n",
              "    }\n",
              "\n",
              "    .dataframe tbody tr th {\n",
              "        vertical-align: top;\n",
              "    }\n",
              "\n",
              "    .dataframe thead th {\n",
              "        text-align: right;\n",
              "    }\n",
              "</style>\n",
              "<table border=\"1\" class=\"dataframe\">\n",
              "  <thead>\n",
              "    <tr style=\"text-align: right;\">\n",
              "      <th></th>\n",
              "      <th>count</th>\n",
              "      <th>mean</th>\n",
              "      <th>std</th>\n",
              "      <th>min</th>\n",
              "      <th>25%</th>\n",
              "      <th>50%</th>\n",
              "      <th>75%</th>\n",
              "      <th>max</th>\n",
              "    </tr>\n",
              "  </thead>\n",
              "  <tbody>\n",
              "    <tr>\n",
              "      <th>id</th>\n",
              "      <td>100.0</td>\n",
              "      <td>50.50000</td>\n",
              "      <td>29.011492</td>\n",
              "      <td>1.000</td>\n",
              "      <td>25.7500</td>\n",
              "      <td>50.5000</td>\n",
              "      <td>75.250</td>\n",
              "      <td>100.000</td>\n",
              "    </tr>\n",
              "    <tr>\n",
              "      <th>radius</th>\n",
              "      <td>100.0</td>\n",
              "      <td>16.85000</td>\n",
              "      <td>4.879094</td>\n",
              "      <td>9.000</td>\n",
              "      <td>12.0000</td>\n",
              "      <td>17.0000</td>\n",
              "      <td>21.000</td>\n",
              "      <td>25.000</td>\n",
              "    </tr>\n",
              "    <tr>\n",
              "      <th>texture</th>\n",
              "      <td>100.0</td>\n",
              "      <td>18.23000</td>\n",
              "      <td>5.192954</td>\n",
              "      <td>11.000</td>\n",
              "      <td>14.0000</td>\n",
              "      <td>17.5000</td>\n",
              "      <td>22.250</td>\n",
              "      <td>27.000</td>\n",
              "    </tr>\n",
              "    <tr>\n",
              "      <th>perimeter</th>\n",
              "      <td>100.0</td>\n",
              "      <td>96.78000</td>\n",
              "      <td>23.676089</td>\n",
              "      <td>52.000</td>\n",
              "      <td>82.5000</td>\n",
              "      <td>94.0000</td>\n",
              "      <td>114.250</td>\n",
              "      <td>172.000</td>\n",
              "    </tr>\n",
              "    <tr>\n",
              "      <th>area</th>\n",
              "      <td>100.0</td>\n",
              "      <td>702.88000</td>\n",
              "      <td>319.710895</td>\n",
              "      <td>202.000</td>\n",
              "      <td>476.7500</td>\n",
              "      <td>644.0000</td>\n",
              "      <td>917.000</td>\n",
              "      <td>1878.000</td>\n",
              "    </tr>\n",
              "    <tr>\n",
              "      <th>smoothness</th>\n",
              "      <td>100.0</td>\n",
              "      <td>0.10273</td>\n",
              "      <td>0.014642</td>\n",
              "      <td>0.070</td>\n",
              "      <td>0.0935</td>\n",
              "      <td>0.1020</td>\n",
              "      <td>0.112</td>\n",
              "      <td>0.143</td>\n",
              "    </tr>\n",
              "    <tr>\n",
              "      <th>compactness</th>\n",
              "      <td>100.0</td>\n",
              "      <td>0.12670</td>\n",
              "      <td>0.061144</td>\n",
              "      <td>0.038</td>\n",
              "      <td>0.0805</td>\n",
              "      <td>0.1185</td>\n",
              "      <td>0.157</td>\n",
              "      <td>0.345</td>\n",
              "    </tr>\n",
              "    <tr>\n",
              "      <th>symmetry</th>\n",
              "      <td>100.0</td>\n",
              "      <td>0.19317</td>\n",
              "      <td>0.030785</td>\n",
              "      <td>0.135</td>\n",
              "      <td>0.1720</td>\n",
              "      <td>0.1900</td>\n",
              "      <td>0.209</td>\n",
              "      <td>0.304</td>\n",
              "    </tr>\n",
              "    <tr>\n",
              "      <th>fractal_dimension</th>\n",
              "      <td>100.0</td>\n",
              "      <td>0.06469</td>\n",
              "      <td>0.008151</td>\n",
              "      <td>0.053</td>\n",
              "      <td>0.0590</td>\n",
              "      <td>0.0630</td>\n",
              "      <td>0.069</td>\n",
              "      <td>0.097</td>\n",
              "    </tr>\n",
              "  </tbody>\n",
              "</table>\n",
              "</div>"
            ],
            "text/plain": [
              "                   count       mean         std  ...       50%      75%       max\n",
              "id                 100.0   50.50000   29.011492  ...   50.5000   75.250   100.000\n",
              "radius             100.0   16.85000    4.879094  ...   17.0000   21.000    25.000\n",
              "texture            100.0   18.23000    5.192954  ...   17.5000   22.250    27.000\n",
              "perimeter          100.0   96.78000   23.676089  ...   94.0000  114.250   172.000\n",
              "area               100.0  702.88000  319.710895  ...  644.0000  917.000  1878.000\n",
              "smoothness         100.0    0.10273    0.014642  ...    0.1020    0.112     0.143\n",
              "compactness        100.0    0.12670    0.061144  ...    0.1185    0.157     0.345\n",
              "symmetry           100.0    0.19317    0.030785  ...    0.1900    0.209     0.304\n",
              "fractal_dimension  100.0    0.06469    0.008151  ...    0.0630    0.069     0.097\n",
              "\n",
              "[9 rows x 8 columns]"
            ]
          },
          "metadata": {
            "tags": []
          },
          "execution_count": 7
        }
      ]
    },
    {
      "cell_type": "markdown",
      "metadata": {
        "id": "wYo-_R8yhJvZ"
      },
      "source": [
        "As one can see the variables are on different scales, hence a normlization or standardization is required."
      ]
    },
    {
      "cell_type": "markdown",
      "metadata": {
        "id": "p2TbdZ80z6XA"
      },
      "source": [
        "In order to decide on whether to normalize or standardize, it is worth looking at the distributions of the variables.\n"
      ]
    },
    {
      "cell_type": "code",
      "metadata": {
        "id": "5081pacGhJKA",
        "outputId": "03ec338b-99a1-433b-9782-7e88e0a66e49",
        "colab": {
          "base_uri": "https://localhost:8080/",
          "height": 393
        }
      },
      "source": [
        "# check feature distributions\n",
        "cols = df.columns[2:]\n",
        "df[cols].hist(bins=15, figsize=(15, 6), layout=(2, 4));"
      ],
      "execution_count": 8,
      "outputs": [
        {
          "output_type": "display_data",
          "data": {
            "image/png": "[encoded data removed]",
            "text/plain": [
              "<Figure size 1080x432 with 8 Axes>"
            ]
          },
          "metadata": {
            "tags": []
          }
        }
      ]
    },
    {
      "cell_type": "markdown",
      "metadata": {
        "id": "Y0MhlA-YhvnP"
      },
      "source": [
        "As one can see, the variables are not normally distributed, thus, normalizing is probably a more reasonable option than standardizing, as the latter is based on the assumption that the variables are normally distributed. While some claim that standradization is fairly robust to the violation to this assumption, we still decide to stick with normalization."
      ]
    },
    {
      "cell_type": "markdown",
      "metadata": {
        "id": "azI4JcU3kjfI"
      },
      "source": [
        "### **Data Processing**"
      ]
    },
    {
      "cell_type": "markdown",
      "metadata": {
        "id": "7Qc1kYaykpPS"
      },
      "source": [
        "First we want to extract the labels from the feature matrix and also drop the id column, as it doesn't carry any useful information."
      ]
    },
    {
      "cell_type": "code",
      "metadata": {
        "id": "KFI22oAuh9vy"
      },
      "source": [
        "# Extract Class Labels\n",
        "y = df['diagnosis_result']\n",
        "# transform the string categories into numbers\n",
        "y = y.replace(\"B\", 0)\n",
        "y = y.replace(\"M\", 1)"
      ],
      "execution_count": 9,
      "outputs": []
    },
    {
      "cell_type": "code",
      "metadata": {
        "id": "P6bznZKHnebN"
      },
      "source": [
        "# drop labels from feature matrix\n",
        "df = df.drop('diagnosis_result', axis = 1)\n",
        "\n",
        "# drop id column\n",
        "df = df.drop('id', axis = 1)\n",
        "\n",
        "# rename dataframe for easier use\n",
        "X = df\n"
      ],
      "execution_count": 10,
      "outputs": []
    },
    {
      "cell_type": "markdown",
      "metadata": {
        "id": "vPo_cNPUoRyT"
      },
      "source": [
        "When splitting the dataset we also ensure the split is stratified, meaning that we ensure that the proportion of benign to malignant samples is roughly the same in the train and test sets."
      ]
    },
    {
      "cell_type": "markdown",
      "metadata": {
        "id": "12hf4i0ayf0C"
      },
      "source": [
        "#### **Splitting the Dataset**"
      ]
    },
    {
      "cell_type": "code",
      "metadata": {
        "id": "KfhCoUM1k5RD",
        "outputId": "9a14edc3-4a0a-485d-b2ac-ca90da7b6467",
        "colab": {
          "base_uri": "https://localhost:8080/",
          "height": 272
        }
      },
      "source": [
        "# Split into train and test set\n",
        "X_train, X_test, y_train, y_test = train_test_split(X, y, test_size = 0.25, random_state = 0, stratify = y)\n",
        "print(X_train.shape)\n",
        "print(y_train.shape)\n",
        "print(X_test.shape)\n",
        "print(y_test.shape)\n",
        "X_test.head()"
      ],
      "execution_count": 11,
      "outputs": [
        {
          "output_type": "stream",
          "text": [
            "(75, 8)\n",
            "(75,)\n",
            "(25, 8)\n",
            "(25,)\n"
          ],
          "name": "stdout"
        },
        {
          "output_type": "execute_result",
          "data": {
            "text/html": [
              "<div>\n",
              "<style scoped>\n",
              "    .dataframe tbody tr th:only-of-type {\n",
              "        vertical-align: middle;\n",
              "    }\n",
              "\n",
              "    .dataframe tbody tr th {\n",
              "        vertical-align: top;\n",
              "    }\n",
              "\n",
              "    .dataframe thead th {\n",
              "        text-align: right;\n",
              "    }\n",
              "</style>\n",
              "<table border=\"1\" class=\"dataframe\">\n",
              "  <thead>\n",
              "    <tr style=\"text-align: right;\">\n",
              "      <th></th>\n",
              "      <th>radius</th>\n",
              "      <th>texture</th>\n",
              "      <th>perimeter</th>\n",
              "      <th>area</th>\n",
              "      <th>smoothness</th>\n",
              "      <th>compactness</th>\n",
              "      <th>symmetry</th>\n",
              "      <th>fractal_dimension</th>\n",
              "    </tr>\n",
              "  </thead>\n",
              "  <tbody>\n",
              "    <tr>\n",
              "      <th>13</th>\n",
              "      <td>12</td>\n",
              "      <td>22</td>\n",
              "      <td>104</td>\n",
              "      <td>783</td>\n",
              "      <td>0.084</td>\n",
              "      <td>0.100</td>\n",
              "      <td>0.185</td>\n",
              "      <td>0.053</td>\n",
              "    </tr>\n",
              "    <tr>\n",
              "      <th>39</th>\n",
              "      <td>10</td>\n",
              "      <td>14</td>\n",
              "      <td>88</td>\n",
              "      <td>559</td>\n",
              "      <td>0.102</td>\n",
              "      <td>0.126</td>\n",
              "      <td>0.172</td>\n",
              "      <td>0.064</td>\n",
              "    </tr>\n",
              "    <tr>\n",
              "      <th>41</th>\n",
              "      <td>19</td>\n",
              "      <td>27</td>\n",
              "      <td>72</td>\n",
              "      <td>371</td>\n",
              "      <td>0.123</td>\n",
              "      <td>0.122</td>\n",
              "      <td>0.190</td>\n",
              "      <td>0.069</td>\n",
              "    </tr>\n",
              "    <tr>\n",
              "      <th>63</th>\n",
              "      <td>24</td>\n",
              "      <td>17</td>\n",
              "      <td>59</td>\n",
              "      <td>261</td>\n",
              "      <td>0.077</td>\n",
              "      <td>0.088</td>\n",
              "      <td>0.234</td>\n",
              "      <td>0.070</td>\n",
              "    </tr>\n",
              "    <tr>\n",
              "      <th>0</th>\n",
              "      <td>23</td>\n",
              "      <td>12</td>\n",
              "      <td>151</td>\n",
              "      <td>954</td>\n",
              "      <td>0.143</td>\n",
              "      <td>0.278</td>\n",
              "      <td>0.242</td>\n",
              "      <td>0.079</td>\n",
              "    </tr>\n",
              "  </tbody>\n",
              "</table>\n",
              "</div>"
            ],
            "text/plain": [
              "    radius  texture  perimeter  ...  compactness  symmetry  fractal_dimension\n",
              "13      12       22        104  ...        0.100     0.185              0.053\n",
              "39      10       14         88  ...        0.126     0.172              0.064\n",
              "41      19       27         72  ...        0.122     0.190              0.069\n",
              "63      24       17         59  ...        0.088     0.234              0.070\n",
              "0       23       12        151  ...        0.278     0.242              0.079\n",
              "\n",
              "[5 rows x 8 columns]"
            ]
          },
          "metadata": {
            "tags": []
          },
          "execution_count": 11
        }
      ]
    },
    {
      "cell_type": "markdown",
      "metadata": {
        "id": "PY2m8W4PllbJ"
      },
      "source": [
        "#### **Data Normalization**"
      ]
    },
    {
      "cell_type": "code",
      "metadata": {
        "id": "J8Vj-x6AnLLz",
        "outputId": "a4010c09-ed72-4715-ae63-0c2c447752cb",
        "colab": {
          "base_uri": "https://localhost:8080/",
          "height": 204
        }
      },
      "source": [
        "# Normalize each feature\n",
        "scaler = MinMaxScaler()\n",
        "\n",
        "# scale only the numerical features\n",
        "scaler.fit(X_train)\n",
        "X_train= scaler.transform(X_train)\n",
        "X_train = pd.DataFrame(X_train)\n",
        "X_train.head()\n",
        "\n"
      ],
      "execution_count": 12,
      "outputs": [
        {
          "output_type": "execute_result",
          "data": {
            "text/html": [
              "<div>\n",
              "<style scoped>\n",
              "    .dataframe tbody tr th:only-of-type {\n",
              "        vertical-align: middle;\n",
              "    }\n",
              "\n",
              "    .dataframe tbody tr th {\n",
              "        vertical-align: top;\n",
              "    }\n",
              "\n",
              "    .dataframe thead th {\n",
              "        text-align: right;\n",
              "    }\n",
              "</style>\n",
              "<table border=\"1\" class=\"dataframe\">\n",
              "  <thead>\n",
              "    <tr style=\"text-align: right;\">\n",
              "      <th></th>\n",
              "      <th>0</th>\n",
              "      <th>1</th>\n",
              "      <th>2</th>\n",
              "      <th>3</th>\n",
              "      <th>4</th>\n",
              "      <th>5</th>\n",
              "      <th>6</th>\n",
              "      <th>7</th>\n",
              "    </tr>\n",
              "  </thead>\n",
              "  <tbody>\n",
              "    <tr>\n",
              "      <th>0</th>\n",
              "      <td>0.6250</td>\n",
              "      <td>0.9375</td>\n",
              "      <td>0.350000</td>\n",
              "      <td>0.266110</td>\n",
              "      <td>0.338028</td>\n",
              "      <td>0.247967</td>\n",
              "      <td>0.431953</td>\n",
              "      <td>0.068182</td>\n",
              "    </tr>\n",
              "    <tr>\n",
              "      <th>1</th>\n",
              "      <td>0.5625</td>\n",
              "      <td>0.8750</td>\n",
              "      <td>0.375000</td>\n",
              "      <td>0.304893</td>\n",
              "      <td>0.295775</td>\n",
              "      <td>0.134146</td>\n",
              "      <td>0.159763</td>\n",
              "      <td>0.090909</td>\n",
              "    </tr>\n",
              "    <tr>\n",
              "      <th>2</th>\n",
              "      <td>1.0000</td>\n",
              "      <td>0.2500</td>\n",
              "      <td>0.200000</td>\n",
              "      <td>0.140811</td>\n",
              "      <td>0.183099</td>\n",
              "      <td>0.040650</td>\n",
              "      <td>0.307692</td>\n",
              "      <td>0.181818</td>\n",
              "    </tr>\n",
              "    <tr>\n",
              "      <th>3</th>\n",
              "      <td>0.6250</td>\n",
              "      <td>0.8750</td>\n",
              "      <td>0.191667</td>\n",
              "      <td>0.134845</td>\n",
              "      <td>0.225352</td>\n",
              "      <td>0.048780</td>\n",
              "      <td>0.088757</td>\n",
              "      <td>0.136364</td>\n",
              "    </tr>\n",
              "    <tr>\n",
              "      <th>4</th>\n",
              "      <td>0.1250</td>\n",
              "      <td>0.6875</td>\n",
              "      <td>0.608333</td>\n",
              "      <td>0.528640</td>\n",
              "      <td>0.507042</td>\n",
              "      <td>0.613821</td>\n",
              "      <td>0.491124</td>\n",
              "      <td>0.204545</td>\n",
              "    </tr>\n",
              "  </tbody>\n",
              "</table>\n",
              "</div>"
            ],
            "text/plain": [
              "        0       1         2         3         4         5         6         7\n",
              "0  0.6250  0.9375  0.350000  0.266110  0.338028  0.247967  0.431953  0.068182\n",
              "1  0.5625  0.8750  0.375000  0.304893  0.295775  0.134146  0.159763  0.090909\n",
              "2  1.0000  0.2500  0.200000  0.140811  0.183099  0.040650  0.307692  0.181818\n",
              "3  0.6250  0.8750  0.191667  0.134845  0.225352  0.048780  0.088757  0.136364\n",
              "4  0.1250  0.6875  0.608333  0.528640  0.507042  0.613821  0.491124  0.204545"
            ]
          },
          "metadata": {
            "tags": []
          },
          "execution_count": 12
        }
      ]
    },
    {
      "cell_type": "code",
      "metadata": {
        "id": "DuuqEzRSazSJ",
        "outputId": "2bc70011-43d8-44db-8351-8e9302833270",
        "colab": {
          "base_uri": "https://localhost:8080/",
          "height": 824
        }
      },
      "source": [
        "# normalizing the test set\n",
        "\n",
        "X_test = scaler.transform(X_test)\n",
        "X_test = pd.DataFrame(X_test)\n",
        "X_test"
      ],
      "execution_count": 13,
      "outputs": [
        {
          "output_type": "execute_result",
          "data": {
            "text/html": [
              "<div>\n",
              "<style scoped>\n",
              "    .dataframe tbody tr th:only-of-type {\n",
              "        vertical-align: middle;\n",
              "    }\n",
              "\n",
              "    .dataframe tbody tr th {\n",
              "        vertical-align: top;\n",
              "    }\n",
              "\n",
              "    .dataframe thead th {\n",
              "        text-align: right;\n",
              "    }\n",
              "</style>\n",
              "<table border=\"1\" class=\"dataframe\">\n",
              "  <thead>\n",
              "    <tr style=\"text-align: right;\">\n",
              "      <th></th>\n",
              "      <th>0</th>\n",
              "      <th>1</th>\n",
              "      <th>2</th>\n",
              "      <th>3</th>\n",
              "      <th>4</th>\n",
              "      <th>5</th>\n",
              "      <th>6</th>\n",
              "      <th>7</th>\n",
              "    </tr>\n",
              "  </thead>\n",
              "  <tbody>\n",
              "    <tr>\n",
              "      <th>0</th>\n",
              "      <td>0.1875</td>\n",
              "      <td>0.6875</td>\n",
              "      <td>0.489130</td>\n",
              "      <td>0.498152</td>\n",
              "      <td>0.106061</td>\n",
              "      <td>0.201954</td>\n",
              "      <td>0.320513</td>\n",
              "      <td>0.000000</td>\n",
              "    </tr>\n",
              "    <tr>\n",
              "      <th>1</th>\n",
              "      <td>0.0625</td>\n",
              "      <td>0.1875</td>\n",
              "      <td>0.315217</td>\n",
              "      <td>0.291128</td>\n",
              "      <td>0.378788</td>\n",
              "      <td>0.286645</td>\n",
              "      <td>0.237179</td>\n",
              "      <td>0.297297</td>\n",
              "    </tr>\n",
              "    <tr>\n",
              "      <th>2</th>\n",
              "      <td>0.6250</td>\n",
              "      <td>1.0000</td>\n",
              "      <td>0.141304</td>\n",
              "      <td>0.117375</td>\n",
              "      <td>0.696970</td>\n",
              "      <td>0.273616</td>\n",
              "      <td>0.352564</td>\n",
              "      <td>0.432432</td>\n",
              "    </tr>\n",
              "    <tr>\n",
              "      <th>3</th>\n",
              "      <td>0.9375</td>\n",
              "      <td>0.3750</td>\n",
              "      <td>0.000000</td>\n",
              "      <td>0.015712</td>\n",
              "      <td>0.000000</td>\n",
              "      <td>0.162866</td>\n",
              "      <td>0.634615</td>\n",
              "      <td>0.459459</td>\n",
              "    </tr>\n",
              "    <tr>\n",
              "      <th>4</th>\n",
              "      <td>0.8750</td>\n",
              "      <td>0.0625</td>\n",
              "      <td>1.000000</td>\n",
              "      <td>0.656192</td>\n",
              "      <td>1.000000</td>\n",
              "      <td>0.781759</td>\n",
              "      <td>0.685897</td>\n",
              "      <td>0.702703</td>\n",
              "    </tr>\n",
              "    <tr>\n",
              "      <th>5</th>\n",
              "      <td>0.7500</td>\n",
              "      <td>1.0000</td>\n",
              "      <td>0.771739</td>\n",
              "      <td>0.886322</td>\n",
              "      <td>0.727273</td>\n",
              "      <td>0.397394</td>\n",
              "      <td>0.461538</td>\n",
              "      <td>0.189189</td>\n",
              "    </tr>\n",
              "    <tr>\n",
              "      <th>6</th>\n",
              "      <td>0.1875</td>\n",
              "      <td>0.1250</td>\n",
              "      <td>0.010870</td>\n",
              "      <td>0.023105</td>\n",
              "      <td>0.409091</td>\n",
              "      <td>0.130293</td>\n",
              "      <td>0.237179</td>\n",
              "      <td>0.432432</td>\n",
              "    </tr>\n",
              "    <tr>\n",
              "      <th>7</th>\n",
              "      <td>0.1250</td>\n",
              "      <td>0.0000</td>\n",
              "      <td>0.750000</td>\n",
              "      <td>0.794824</td>\n",
              "      <td>0.212121</td>\n",
              "      <td>0.589577</td>\n",
              "      <td>0.615385</td>\n",
              "      <td>0.270270</td>\n",
              "    </tr>\n",
              "    <tr>\n",
              "      <th>8</th>\n",
              "      <td>0.4375</td>\n",
              "      <td>0.7500</td>\n",
              "      <td>0.521739</td>\n",
              "      <td>0.520333</td>\n",
              "      <td>0.409091</td>\n",
              "      <td>0.384365</td>\n",
              "      <td>0.416667</td>\n",
              "      <td>0.324324</td>\n",
              "    </tr>\n",
              "    <tr>\n",
              "      <th>9</th>\n",
              "      <td>0.4375</td>\n",
              "      <td>0.4375</td>\n",
              "      <td>0.923913</td>\n",
              "      <td>0.925139</td>\n",
              "      <td>0.787879</td>\n",
              "      <td>1.000000</td>\n",
              "      <td>1.000000</td>\n",
              "      <td>0.756757</td>\n",
              "    </tr>\n",
              "    <tr>\n",
              "      <th>10</th>\n",
              "      <td>0.1250</td>\n",
              "      <td>0.3125</td>\n",
              "      <td>0.608696</td>\n",
              "      <td>0.657116</td>\n",
              "      <td>0.318182</td>\n",
              "      <td>0.254072</td>\n",
              "      <td>0.250000</td>\n",
              "      <td>0.216216</td>\n",
              "    </tr>\n",
              "    <tr>\n",
              "      <th>11</th>\n",
              "      <td>0.4375</td>\n",
              "      <td>0.1875</td>\n",
              "      <td>0.293478</td>\n",
              "      <td>0.255083</td>\n",
              "      <td>0.469697</td>\n",
              "      <td>0.289902</td>\n",
              "      <td>0.397436</td>\n",
              "      <td>0.405405</td>\n",
              "    </tr>\n",
              "    <tr>\n",
              "      <th>12</th>\n",
              "      <td>0.0000</td>\n",
              "      <td>0.1250</td>\n",
              "      <td>0.804348</td>\n",
              "      <td>1.000000</td>\n",
              "      <td>1.000000</td>\n",
              "      <td>0.133550</td>\n",
              "      <td>0.294872</td>\n",
              "      <td>0.108108</td>\n",
              "    </tr>\n",
              "    <tr>\n",
              "      <th>13</th>\n",
              "      <td>0.1875</td>\n",
              "      <td>0.1250</td>\n",
              "      <td>0.380435</td>\n",
              "      <td>0.308688</td>\n",
              "      <td>0.545455</td>\n",
              "      <td>0.622150</td>\n",
              "      <td>0.461538</td>\n",
              "      <td>0.648649</td>\n",
              "    </tr>\n",
              "    <tr>\n",
              "      <th>14</th>\n",
              "      <td>0.4375</td>\n",
              "      <td>1.0000</td>\n",
              "      <td>0.380435</td>\n",
              "      <td>0.368762</td>\n",
              "      <td>0.318182</td>\n",
              "      <td>0.247557</td>\n",
              "      <td>0.339744</td>\n",
              "      <td>0.297297</td>\n",
              "    </tr>\n",
              "    <tr>\n",
              "      <th>15</th>\n",
              "      <td>0.6250</td>\n",
              "      <td>1.0000</td>\n",
              "      <td>0.032609</td>\n",
              "      <td>0.047135</td>\n",
              "      <td>0.378788</td>\n",
              "      <td>0.048860</td>\n",
              "      <td>0.000000</td>\n",
              "      <td>0.432432</td>\n",
              "    </tr>\n",
              "    <tr>\n",
              "      <th>16</th>\n",
              "      <td>0.7500</td>\n",
              "      <td>0.4375</td>\n",
              "      <td>0.489130</td>\n",
              "      <td>0.530499</td>\n",
              "      <td>0.227273</td>\n",
              "      <td>0.149837</td>\n",
              "      <td>0.288462</td>\n",
              "      <td>0.027027</td>\n",
              "    </tr>\n",
              "    <tr>\n",
              "      <th>17</th>\n",
              "      <td>1.0000</td>\n",
              "      <td>0.0000</td>\n",
              "      <td>0.304348</td>\n",
              "      <td>0.292976</td>\n",
              "      <td>0.166667</td>\n",
              "      <td>0.127036</td>\n",
              "      <td>0.294872</td>\n",
              "      <td>0.108108</td>\n",
              "    </tr>\n",
              "    <tr>\n",
              "      <th>18</th>\n",
              "      <td>0.4375</td>\n",
              "      <td>0.3750</td>\n",
              "      <td>0.000000</td>\n",
              "      <td>0.006470</td>\n",
              "      <td>0.454545</td>\n",
              "      <td>0.335505</td>\n",
              "      <td>0.487179</td>\n",
              "      <td>0.729730</td>\n",
              "    </tr>\n",
              "    <tr>\n",
              "      <th>19</th>\n",
              "      <td>0.7500</td>\n",
              "      <td>0.0000</td>\n",
              "      <td>0.260870</td>\n",
              "      <td>0.258780</td>\n",
              "      <td>0.196970</td>\n",
              "      <td>0.000000</td>\n",
              "      <td>0.076923</td>\n",
              "      <td>0.162162</td>\n",
              "    </tr>\n",
              "    <tr>\n",
              "      <th>20</th>\n",
              "      <td>0.5000</td>\n",
              "      <td>0.0000</td>\n",
              "      <td>0.304348</td>\n",
              "      <td>0.297597</td>\n",
              "      <td>0.318182</td>\n",
              "      <td>0.140065</td>\n",
              "      <td>0.346154</td>\n",
              "      <td>0.135135</td>\n",
              "    </tr>\n",
              "    <tr>\n",
              "      <th>21</th>\n",
              "      <td>0.0000</td>\n",
              "      <td>0.9375</td>\n",
              "      <td>0.000000</td>\n",
              "      <td>0.000000</td>\n",
              "      <td>0.318182</td>\n",
              "      <td>0.374593</td>\n",
              "      <td>0.352564</td>\n",
              "      <td>1.000000</td>\n",
              "    </tr>\n",
              "    <tr>\n",
              "      <th>22</th>\n",
              "      <td>0.1250</td>\n",
              "      <td>0.2500</td>\n",
              "      <td>0.402174</td>\n",
              "      <td>0.420518</td>\n",
              "      <td>0.257576</td>\n",
              "      <td>0.042345</td>\n",
              "      <td>0.141026</td>\n",
              "      <td>0.054054</td>\n",
              "    </tr>\n",
              "    <tr>\n",
              "      <th>23</th>\n",
              "      <td>0.6250</td>\n",
              "      <td>0.0000</td>\n",
              "      <td>0.684783</td>\n",
              "      <td>0.768946</td>\n",
              "      <td>0.196970</td>\n",
              "      <td>0.270358</td>\n",
              "      <td>0.384615</td>\n",
              "      <td>0.081081</td>\n",
              "    </tr>\n",
              "    <tr>\n",
              "      <th>24</th>\n",
              "      <td>0.5000</td>\n",
              "      <td>0.2500</td>\n",
              "      <td>0.489130</td>\n",
              "      <td>0.496303</td>\n",
              "      <td>0.303030</td>\n",
              "      <td>0.296417</td>\n",
              "      <td>0.314103</td>\n",
              "      <td>0.216216</td>\n",
              "    </tr>\n",
              "  </tbody>\n",
              "</table>\n",
              "</div>"
            ],
            "text/plain": [
              "         0       1         2         3         4         5         6         7\n",
              "0   0.1875  0.6875  0.489130  0.498152  0.106061  0.201954  0.320513  0.000000\n",
              "1   0.0625  0.1875  0.315217  0.291128  0.378788  0.286645  0.237179  0.297297\n",
              "2   0.6250  1.0000  0.141304  0.117375  0.696970  0.273616  0.352564  0.432432\n",
              "3   0.9375  0.3750  0.000000  0.015712  0.000000  0.162866  0.634615  0.459459\n",
              "4   0.8750  0.0625  1.000000  0.656192  1.000000  0.781759  0.685897  0.702703\n",
              "5   0.7500  1.0000  0.771739  0.886322  0.727273  0.397394  0.461538  0.189189\n",
              "6   0.1875  0.1250  0.010870  0.023105  0.409091  0.130293  0.237179  0.432432\n",
              "7   0.1250  0.0000  0.750000  0.794824  0.212121  0.589577  0.615385  0.270270\n",
              "8   0.4375  0.7500  0.521739  0.520333  0.409091  0.384365  0.416667  0.324324\n",
              "9   0.4375  0.4375  0.923913  0.925139  0.787879  1.000000  1.000000  0.756757\n",
              "10  0.1250  0.3125  0.608696  0.657116  0.318182  0.254072  0.250000  0.216216\n",
              "11  0.4375  0.1875  0.293478  0.255083  0.469697  0.289902  0.397436  0.405405\n",
              "12  0.0000  0.1250  0.804348  1.000000  1.000000  0.133550  0.294872  0.108108\n",
              "13  0.1875  0.1250  0.380435  0.308688  0.545455  0.622150  0.461538  0.648649\n",
              "14  0.4375  1.0000  0.380435  0.368762  0.318182  0.247557  0.339744  0.297297\n",
              "15  0.6250  1.0000  0.032609  0.047135  0.378788  0.048860  0.000000  0.432432\n",
              "16  0.7500  0.4375  0.489130  0.530499  0.227273  0.149837  0.288462  0.027027\n",
              "17  1.0000  0.0000  0.304348  0.292976  0.166667  0.127036  0.294872  0.108108\n",
              "18  0.4375  0.3750  0.000000  0.006470  0.454545  0.335505  0.487179  0.729730\n",
              "19  0.7500  0.0000  0.260870  0.258780  0.196970  0.000000  0.076923  0.162162\n",
              "20  0.5000  0.0000  0.304348  0.297597  0.318182  0.140065  0.346154  0.135135\n",
              "21  0.0000  0.9375  0.000000  0.000000  0.318182  0.374593  0.352564  1.000000\n",
              "22  0.1250  0.2500  0.402174  0.420518  0.257576  0.042345  0.141026  0.054054\n",
              "23  0.6250  0.0000  0.684783  0.768946  0.196970  0.270358  0.384615  0.081081\n",
              "24  0.5000  0.2500  0.489130  0.496303  0.303030  0.296417  0.314103  0.216216"
            ]
          },
          "metadata": {
            "tags": []
          },
          "execution_count": 13
        }
      ]
    },
    {
      "cell_type": "markdown",
      "metadata": {
        "id": "UKIu1Pqk0YK6"
      },
      "source": [
        "Note that we rescale the train and test set separately, as doing this before splitting them is claimed to possibly result in data leakage. Now, before proceeding to model fitting, we will briefly discuss the evaluation metric that we chose.\n"
      ]
    },
    {
      "cell_type": "markdown",
      "metadata": {
        "id": "IK2r5ftf5_L8"
      },
      "source": [
        "## **Choosing an Evaluation Metric**"
      ]
    },
    {
      "cell_type": "markdown",
      "metadata": {
        "id": "am_DQrFb6DBe"
      },
      "source": [
        "In order to pick a good evaluation metric, we need to first clarify what the goal of our classifier is. In the case of classifying prostate tumours as benign or malignant, we would like to put more emphasis on the identification of malignant tumours. The reason for this is because if we misclassify a malignant tumour as benign, this could potentially have a fatal outcome for the patient. What is more, we would want to make sure both that of all samples classified as 'malignant', a high percentage would actually be malignant. This is, we require a **high precision** score. In addition, we want to ensure that given all malignant tumours, most of them are successfully classified as malignant. This is, we also need a **high recall** score. A good way to **combine precision and recall** is by using the **F1-score**.\n",
        "Thus, we choose F1-score, in order to ensure that the model we select would have both adequate precision and recall."
      ]
    },
    {
      "cell_type": "markdown",
      "metadata": {
        "id": "yqvAvU86oyJW"
      },
      "source": [
        "## **Model Fitting**"
      ]
    },
    {
      "cell_type": "markdown",
      "metadata": {
        "id": "9sJjyYlZ0v0T"
      },
      "source": [
        "As mentioned earlier, in this project we decided to use a Logistic regression and a Decision tree classifier and compare their performance. Now, in order to have a baseline to compare the performance of our models to, after we tune their parameters, we would first fit them both with their default parameters."
      ]
    },
    {
      "cell_type": "code",
      "metadata": {
        "id": "nT6xZRkY39p7",
        "outputId": "3280e036-9f83-464e-ca50-15bbe363df11",
        "colab": {
          "base_uri": "https://localhost:8080/"
        }
      },
      "source": [
        "#Compare algorithms in their default configurations\n",
        "from sklearn.pipeline import Pipeline\n",
        "\n",
        "models = [LogisticRegression(),DecisionTreeClassifier()]\n",
        "scaler = MinMaxScaler()\n",
        "\n",
        "model_names = [type(x).__name__ for x in models]\n",
        "std_score = []\n",
        "for m in tqdm(models):\n",
        "    pipeline = Pipeline([('transformer', scaler), ('estimator', m)])\n",
        "    std_score.append(cross_val_score(pipeline,\n",
        "                                 X = X,\n",
        "                                 y = y,\n",
        "                                 scoring = 'f1',\n",
        "                                 cv = 10).mean())\n",
        "    \n",
        "pd.Series(data = std_score, index = model_names)"
      ],
      "execution_count": 14,
      "outputs": [
        {
          "output_type": "stream",
          "text": [
            "100%|██████████| 2/2 [00:00<00:00, 11.17it/s]\n"
          ],
          "name": "stderr"
        },
        {
          "output_type": "execute_result",
          "data": {
            "text/plain": [
              "LogisticRegression        0.902639\n",
              "DecisionTreeClassifier    0.775861\n",
              "dtype: float64"
            ]
          },
          "metadata": {
            "tags": []
          },
          "execution_count": 14
        }
      ]
    },
    {
      "cell_type": "markdown",
      "metadata": {
        "id": "HiJR0Wyf5QA4"
      },
      "source": [
        "As one can see, Logistic Regression already has a very reasonable mean F1-score, while the Decision Tree classifier has some room for improvement. We are now proceeding with fitting Logistic Regression and Decision Tree classifier, conducting Bayesian Optimization and Grid Search for hypertuning some of the parameters, respectively."
      ]
    },
    {
      "cell_type": "markdown",
      "metadata": {
        "id": "PIzvOrXJolVB"
      },
      "source": [
        "### **Logistic Regression**"
      ]
    },
    {
      "cell_type": "markdown",
      "metadata": {
        "id": "RAGvPOjktEtA"
      },
      "source": [
        "#### **Hyperparameter Tuning with Bayesian Optimization**"
      ]
    },
    {
      "cell_type": "markdown",
      "metadata": {
        "id": "e6xD_jtEopnf"
      },
      "source": [
        "In order to try and get an optimal performance out of our logistic regression algorithm, we need to tune the hyperparameters. In this case we will use Bayesian optimization.\n"
      ]
    },
    {
      "cell_type": "code",
      "metadata": {
        "id": "HgOoWNcF2HC9",
        "outputId": "25ded4b3-6ee1-4f16-b55c-07ffb566494a",
        "colab": {
          "base_uri": "https://localhost:8080/"
        }
      },
      "source": [
        "import skopt \n",
        "from skopt import BayesSearchCV\n",
        "import warnings\n",
        "warnings.filterwarnings('ignore', message='The objective has been evaluated at this point before.')\n",
        "\n",
        "scoring = {'f1': make_scorer(f1_score, average='binary')}\n",
        "lr_params = { 'solver': ['liblinear', 'lbfgs'],  \n",
        "              'tol': skopt.space.Real(1e-5, 1e-3, 'uniform'),\n",
        "              'C': skopt.space.Real(1e-5, 10, 'uniform'),\n",
        "              'fit_intercept': [True, False],\n",
        "              'max_iter': skopt.space.Integer(1000, 2000, 'uniform')\n",
        "}\n",
        "\n",
        "bayes = BayesSearchCV(LogisticRegression(dual = False), search_spaces = lr_params, n_iter = 100, scoring='f1', cv=5, random_state=0)\n",
        "res = bayes.fit(X_train, y_train)\n",
        "print(res.best_params_)\n"
      ],
      "execution_count": 15,
      "outputs": [
        {
          "output_type": "stream",
          "text": [
            "OrderedDict([('C', 5.309646339879824), ('fit_intercept', True), ('max_iter', 1623), ('solver', 'liblinear'), ('tol', 0.0008601563933385878)])\n"
          ],
          "name": "stdout"
        }
      ]
    },
    {
      "cell_type": "markdown",
      "metadata": {
        "id": "GLouM_ky2HyK"
      },
      "source": [
        "#### **Training the Best Model**"
      ]
    },
    {
      "cell_type": "code",
      "metadata": {
        "id": "c3dASewr9mu2"
      },
      "source": [
        "model_lr = LogisticRegression(C = 5.309646339879824, fit_intercept = True, max_iter = 1623, solver = 'liblinear', tol = 0.0008601563933385878, dual = False).fit(X_train, y_train)"
      ],
      "execution_count": 16,
      "outputs": []
    },
    {
      "cell_type": "markdown",
      "metadata": {
        "id": "cmzh3nPc2NhV"
      },
      "source": [
        "#### **Model Evaluation**"
      ]
    },
    {
      "cell_type": "code",
      "metadata": {
        "id": "FbLdX9xwGLN4",
        "outputId": "050031cb-29c1-43c3-d2d7-f3337a916d6b",
        "colab": {
          "base_uri": "https://localhost:8080/"
        }
      },
      "source": [
        "# Generate predictions for test samples\n",
        "y_pred = model_lr.predict(X_test)\n",
        "y_pred"
      ],
      "execution_count": 17,
      "outputs": [
        {
          "output_type": "execute_result",
          "data": {
            "text/plain": [
              "array([1, 1, 0, 0, 1, 1, 0, 1, 1, 1, 1, 1, 1, 1, 1, 0, 1, 0, 0, 0, 0, 0,\n",
              "       1, 1, 1])"
            ]
          },
          "metadata": {
            "tags": []
          },
          "execution_count": 17
        }
      ]
    },
    {
      "cell_type": "code",
      "metadata": {
        "id": "2df1TsebGNuA",
        "outputId": "0dd36ac1-9535-46f0-a8c0-cf1d08690076",
        "colab": {
          "base_uri": "https://localhost:8080/"
        }
      },
      "source": [
        "# Calculate model performance metrics on test set\n",
        "\n",
        "print(f1_score(y_test, y_pred, average = 'binary'))\n",
        "print()\n",
        "print(\"F1-score for each label\")\n",
        "print()\n",
        "print(\"  B           M\")\n",
        "print(f1_score(y_test, y_pred, average = None))\n"
      ],
      "execution_count": 18,
      "outputs": [
        {
          "output_type": "stream",
          "text": [
            "0.9032258064516129\n",
            "\n",
            "F1-score for each label\n",
            "\n",
            "  B           M\n",
            "[0.84210526 0.90322581]\n"
          ],
          "name": "stdout"
        }
      ]
    },
    {
      "cell_type": "markdown",
      "metadata": {
        "id": "0znHmchsGcAQ"
      },
      "source": [
        "As one can see, hyperparameter tuning has barely changed the predictive performance of the algorithm on the test set. As one can see from the F1-score, the model performs reasonably well in classifying both classes."
      ]
    },
    {
      "cell_type": "markdown",
      "metadata": {
        "id": "9vr1Ua6h8GYM"
      },
      "source": [
        "### **Decision Tree**"
      ]
    },
    {
      "cell_type": "markdown",
      "metadata": {
        "id": "d4xJAs5_6UQE"
      },
      "source": [
        "### **Hyperparameter Tuning using GridSearch**"
      ]
    },
    {
      "cell_type": "code",
      "metadata": {
        "id": "RXzOz3ZyEueg",
        "outputId": "a9b20164-54e6-403f-8444-e0d581c19b69",
        "colab": {
          "base_uri": "https://localhost:8080/"
        }
      },
      "source": [
        "from sklearn.metrics import make_scorer\n",
        "from sklearn.model_selection import GridSearchCV\n",
        "# Set the parameters by cross-validation\n",
        "tuned_parameters = {'criterion': ['gini', 'entropy'],  \n",
        "                   'splitter': ['best', 'random'],\n",
        "                  'max_features':['auto', 'sqrt', 'log2', None],\n",
        "                  'max_depth': range(2,20),\n",
        "                  }\n",
        "scoring = {'f1': make_scorer(f1_score, average='binary')}\n",
        "model_dt = GridSearchCV(DecisionTreeClassifier(random_state = 0), tuned_parameters, scoring = scoring, refit = 'f1')\n",
        "model_dt.fit(X_train, y_train)\n",
        "print(\"Best parameters set through GridSearchCV\")\n",
        "print()\n",
        "print(model_dt.best_params_)\n"
      ],
      "execution_count": 19,
      "outputs": [
        {
          "output_type": "stream",
          "text": [
            "Best parameters set through GridSearchCV\n",
            "\n",
            "{'criterion': 'entropy', 'max_depth': 3, 'max_features': None, 'splitter': 'random'}\n"
          ],
          "name": "stdout"
        }
      ]
    },
    {
      "cell_type": "code",
      "metadata": {
        "id": "4B2SWGoD7RN7"
      },
      "source": [
        "model_dt = DecisionTreeClassifier(criterion = 'entropy', splitter = 'random', max_features = None, max_depth = 3, random_state = 0).fit(X_train, y_train)\n"
      ],
      "execution_count": 20,
      "outputs": []
    },
    {
      "cell_type": "code",
      "metadata": {
        "id": "5gQpKlPPEcEE",
        "outputId": "4cca71d2-0454-4c1d-9475-e044080c6c8c",
        "colab": {
          "base_uri": "https://localhost:8080/"
        }
      },
      "source": [
        "# Generate predictions for test samples\n",
        "y_pred = model_dt.predict(X_test)\n",
        "y_pred"
      ],
      "execution_count": 21,
      "outputs": [
        {
          "output_type": "execute_result",
          "data": {
            "text/plain": [
              "array([1, 1, 1, 0, 1, 1, 0, 1, 1, 1, 1, 1, 1, 1, 1, 0, 1, 0, 1, 0, 0, 1,\n",
              "       1, 1, 1])"
            ]
          },
          "metadata": {
            "tags": []
          },
          "execution_count": 21
        }
      ]
    },
    {
      "cell_type": "code",
      "metadata": {
        "id": "jSQe1G8UEhRj",
        "outputId": "a70cea5b-068b-44e8-f2c4-3e365b5f7948",
        "colab": {
          "base_uri": "https://localhost:8080/"
        }
      },
      "source": [
        "# Calculate model performance metrics on test set\n",
        "\n",
        "print(f1_score(y_test, y_pred, average = 'binary'))\n",
        "print()\n",
        "print(\"F1-score for each label\")\n",
        "print()\n",
        "print(\"  B           M\")\n",
        "print(f1_score(y_test, y_pred, average = None))\n"
      ],
      "execution_count": 22,
      "outputs": [
        {
          "output_type": "stream",
          "text": [
            "0.8823529411764706\n",
            "\n",
            "F1-score for each label\n",
            "\n",
            "  B           M\n",
            "[0.75       0.88235294]\n"
          ],
          "name": "stdout"
        }
      ]
    },
    {
      "cell_type": "markdown",
      "metadata": {
        "id": "AbYVn1UPJ-j4"
      },
      "source": [
        "As one can see, the performance of the Decision Tree classifier performs better than the DT classifier with default parameters. It does however perform slightly worse than the tuned Logistic Regression model, in terms of the F1-score for benign samples."
      ]
    },
    {
      "cell_type": "markdown",
      "metadata": {
        "id": "3Uw2CZWyPIjU"
      },
      "source": [
        "### **Logistic Regression Classifier with a Reduced Number of Features**"
      ]
    },
    {
      "cell_type": "markdown",
      "metadata": {
        "id": "BIPsCpuCQBGP"
      },
      "source": [
        "Now, earlier on in our Exploratory Data Analysis section we saw that there were four variables, which appeared to have different distributions of their values when split by classes. These were ***perimeter, area, compactness*** and ***symmetry***. An interesting experiment would be to see how well a classifier only trained using these four features would perform in classifying prostate cancer tumours."
      ]
    },
    {
      "cell_type": "code",
      "metadata": {
        "id": "a5WpsFgqLh2B"
      },
      "source": [
        "X_train_small = X_train[[2, 3, 5, 6]]\n",
        "X_test_small = X_test[[2, 3, 5, 6]]"
      ],
      "execution_count": 23,
      "outputs": []
    },
    {
      "cell_type": "code",
      "metadata": {
        "id": "rAwrgTcPLiI7",
        "outputId": "3023f5bf-9ece-4f7f-c012-2603dc53b689",
        "colab": {
          "base_uri": "https://localhost:8080/"
        }
      },
      "source": [
        "import skopt \n",
        "from skopt import BayesSearchCV\n",
        "import warnings\n",
        "warnings.filterwarnings('ignore', message='The objective has been evaluated at this point before.')\n",
        "\n",
        "scoring = {'f1': make_scorer(f1_score, average='binary')}\n",
        "lr_params = { 'solver': ['liblinear', 'lbfgs'],  \n",
        "              'tol': skopt.space.Real(1e-5, 1e-3, 'uniform'),\n",
        "              'C': skopt.space.Real(1e-5, 10, 'uniform'),\n",
        "              'fit_intercept': [True, False],\n",
        "              'max_iter': skopt.space.Integer(1000, 2000, 'uniform')\n",
        "}\n",
        "\n",
        "bayes = BayesSearchCV(LogisticRegression(dual = False), search_spaces = lr_params, n_iter = 100, scoring='f1', cv=5, random_state=0)\n",
        "res = bayes.fit(X_train_small, y_train)\n",
        "print(res.best_params_)\n"
      ],
      "execution_count": 24,
      "outputs": [
        {
          "output_type": "stream",
          "text": [
            "OrderedDict([('C', 2.583724036010862), ('fit_intercept', True), ('max_iter', 1908), ('solver', 'liblinear'), ('tol', 0.00026989901347836977)])\n"
          ],
          "name": "stdout"
        }
      ]
    },
    {
      "cell_type": "code",
      "metadata": {
        "id": "RDQNGopcLiJF"
      },
      "source": [
        "model_lr = LogisticRegression(C = 2.583724036010862, fit_intercept = True, max_iter = 1908, solver = 'liblinear', tol = 0.00026989901347836977, dual = False).fit(X_train_small, y_train)"
      ],
      "execution_count": 25,
      "outputs": []
    },
    {
      "cell_type": "code",
      "metadata": {
        "id": "essJkkqWLiJK",
        "outputId": "71246598-a2c4-4902-88e3-aa606203781a",
        "colab": {
          "base_uri": "https://localhost:8080/"
        }
      },
      "source": [
        "# Generate predictions for test samples\n",
        "y_pred = model_lr.predict(X_test_small)\n",
        "y_pred"
      ],
      "execution_count": 26,
      "outputs": [
        {
          "output_type": "execute_result",
          "data": {
            "text/plain": [
              "array([1, 1, 0, 0, 1, 1, 0, 1, 1, 1, 1, 1, 1, 1, 1, 0, 1, 0, 0, 0, 1, 0,\n",
              "       1, 1, 1])"
            ]
          },
          "metadata": {
            "tags": []
          },
          "execution_count": 26
        }
      ]
    },
    {
      "cell_type": "code",
      "metadata": {
        "id": "32CZA2yrLiJP",
        "outputId": "8bf3bde1-f25b-4e83-f062-eb4f8fab9116",
        "colab": {
          "base_uri": "https://localhost:8080/"
        }
      },
      "source": [
        "# Calculate model performance metrics on test set\n",
        "\n",
        "print(f1_score(y_test, y_pred, average = 'binary'))\n",
        "print()\n",
        "print(\"F1-score for each label\")\n",
        "print()\n",
        "print(\"  B           M\")\n",
        "print(f1_score(y_test, y_pred, average = None))\n"
      ],
      "execution_count": 27,
      "outputs": [
        {
          "output_type": "stream",
          "text": [
            "0.8749999999999999\n",
            "\n",
            "F1-score for each label\n",
            "\n",
            "  B           M\n",
            "[0.77777778 0.875     ]\n"
          ],
          "name": "stdout"
        }
      ]
    },
    {
      "cell_type": "markdown",
      "metadata": {
        "id": "rjbrD8e1QyjE"
      },
      "source": [
        "As one can see, the classifier performs slightly more poorly, compared to the logistic regression trained on all 8 features. But since we only have one test set, it is not very clear whether this difference is statistically significant. Thus, in case extra test data is obtained, it would be an interesting question to investigate."
      ]
    },
    {
      "cell_type": "markdown",
      "metadata": {
        "id": "QsPzt2pQKdb9"
      },
      "source": [
        "## **Conclusion**"
      ]
    },
    {
      "cell_type": "markdown",
      "metadata": {
        "id": "7Xjb4rYxKgR4"
      },
      "source": [
        "It seems like both classifiers do reasonably well in prostate cancer classification. While hypertuning of parameters didn't seem to improve the logistic regression classifier, it appeared to result in a significant improvement of malignant samples classification by the Decision tree classifier.\n",
        "It also seems like a logistic regression classifier trained only with four of the original eight features - perimeter, area, compactness, and symmetry - performs almost on par with the above two. Extra test data would potentially clarify which one of the three models would be the best one to use."
      ]
    }
  ]
}